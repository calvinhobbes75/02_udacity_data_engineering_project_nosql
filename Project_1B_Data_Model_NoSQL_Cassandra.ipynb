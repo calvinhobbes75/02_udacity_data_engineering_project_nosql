{
 "cells": [
  {
   "cell_type": "markdown",
   "metadata": {},
   "source": [
    "# Project: Data Modeling with Cassandra  \n",
    "A startup called Sparkify wants to analyze the data they've been collecting on songs and user activity on their new music streaming app. The analysis team is particularly interested in understanding what songs users are listening to. Currently, there is no easy way to query the data to generate the results, since the data reside in a directory of CSV files on user activity on the app.\n",
    "\n",
    "## Project Overview  \n",
    "In this project, data models are created with Apache Cassandra and ETL pipeline will be created using Python :  \n",
    "- keyspace and tables in Apache Cassandra are created to run queries.  \n",
    "- an ETL pipeline will transfer data from a set of CSV files within a directory to create a streamlined CSV file to model and insert data into Apache Cassandra tables."
   ]
  },
  {
   "cell_type": "markdown",
   "metadata": {},
   "source": [
    "# Part I. ETL Pipeline for Pre-Processing the Files"
   ]
  },
  {
   "cell_type": "markdown",
   "metadata": {},
   "source": [
    "#### Import Python packages "
   ]
  },
  {
   "cell_type": "code",
   "execution_count": 1,
   "metadata": {},
   "outputs": [],
   "source": [
    "# Import Python packages \n",
    "import pandas as pd\n",
    "import cassandra\n",
    "import re\n",
    "import os\n",
    "import glob\n",
    "import numpy as np\n",
    "import json\n",
    "import csv"
   ]
  },
  {
   "cell_type": "markdown",
   "metadata": {},
   "source": [
    "#### Creating list of filepaths to process original event csv data files"
   ]
  },
  {
   "cell_type": "code",
   "execution_count": 2,
   "metadata": {},
   "outputs": [
    {
     "output_type": "stream",
     "name": "stdout",
     "text": "/c/Users/sdelo/SynologyDrive/data_science/mooc/udacity/01_data_engineering/01_data_modeling/02_udacity_data_engineering_project_nosql\n"
    }
   ],
   "source": [
    "# checking your current working directory\n",
    "print(os.getcwd())\n",
    "\n",
    "# Get your current folder and subfolder event data\n",
    "filepath = os.getcwd() + '/event_data'\n",
    "\n",
    "# Create a for loop to create a list of files and collect each filepath\n",
    "for root, dirs, files in os.walk(filepath):\n",
    "    \n",
    "# join the file path and roots with the subdirectories using glob\n",
    "    file_path_list = glob.glob(os.path.join(root,'*'))\n",
    "    # print(file_path_list)"
   ]
  },
  {
   "cell_type": "markdown",
   "metadata": {},
   "source": [
    "#### Processing the files to create the data file csv that will be used for Apache Casssandra tables"
   ]
  },
  {
   "cell_type": "code",
   "execution_count": 4,
   "metadata": {
    "tags": [
     "outputPrepend",
     "outputPrepend",
     "outputPrepend",
     "outputPrepend",
     "outputPrepend",
     "outputPrepend",
     "outputPrepend",
     "outputPrepend",
     "outputPrepend",
     "outputPrepend",
     "outputPrepend",
     "outputPrepend",
     "outputPrepend",
     "outputPrepend",
     "outputPrepend",
     "outputPrepend",
     "outputPrepend",
     "outputPrepend",
     "outputPrepend",
     "outputPrepend",
     "outputPrepend",
     "outputPrepend"
    ]
   },
   "outputs": [
    {
     "output_type": "stream",
     "name": "stdout",
     "text": "', 'PUT', 'NextSong', '1.54047E+12', '977', 'Feel It', '200', '1.54359E+12', '85']\n['Sugababes', 'Logged In', 'Kinsley', 'F', '33', 'Young', '275.93098', 'paid', 'Red Bluff, CA', 'PUT', 'NextSong', '1.54047E+12', '977', 'Overload', '200', '1.54359E+12', '85']\n['Gyptian', 'Logged In', 'Rylan', 'M', '13', 'George', '233.09016', 'paid', 'Birmingham-Hoover, AL', 'PUT', 'NextSong', '1.54102E+12', '1076', 'Hold You', '200', '1.54359E+12', '16']\n['Zion / Akon', 'Logged In', 'Rylan', 'M', '14', 'George', '233.19465', 'paid', 'Birmingham-Hoover, AL', 'PUT', 'NextSong', '1.54102E+12', '1076', 'The Way She Moves', '200', '1.54359E+12', '16']\n['Transvision Vamp', 'Logged In', 'Rylan', 'M', '15', 'George', '209.91955', 'paid', 'Birmingham-Hoover, AL', 'PUT', 'NextSong', '1.54102E+12', '1076', 'I Want Your Love', '200', '1.54359E+12', '16']\n['Ry Cooder', 'Logged In', 'Chloe', 'F', '37', 'Cuevas', '201.56036', 'paid', 'San Francisco-Oakland-Hayward, CA', 'PUT', 'NextSong', '1.54094E+12', '1096', 'Corrido de Boxeo', '200', '1.54359E+12', '49']\n['The Pussycat Dolls', 'Logged In', 'Rylan', 'M', '16', 'George', '245.18485', 'paid', 'Birmingham-Hoover, AL', 'PUT', 'NextSong', '1.54102E+12', '1076', 'When I Grow Up', '200', '1.54359E+12', '16']\n['Coldplay', 'Logged In', 'Chloe', 'F', '38', 'Cuevas', '268.30322', 'paid', 'San Francisco-Oakland-Hayward, CA', 'PUT', 'NextSong', '1.54094E+12', '1096', 'Yellow', '200', '1.54359E+12', '49']\n['Forever The Sickest Kids', 'Logged In', 'Rylan', 'M', '17', 'George', '169.482', 'paid', 'Birmingham-Hoover, AL', 'PUT', 'NextSong', '1.54102E+12', '1076', 'She Likes (Bittersweet Love)', '200', '1.54359E+12', '16']\n['Lil Wayne / Blaque / Mannie Fresh', 'Logged In', 'Chloe', 'F', '39', 'Cuevas', '255.34649', 'paid', 'San Francisco-Oakland-Hayward, CA', 'PUT', 'NextSong', '1.54094E+12', '1096', 'Believe That', '200', '1.54359E+12', '49']\n['Dragonforce', 'Logged In', 'Rylan', 'M', '18', 'George', '441.02485', 'paid', 'Birmingham-Hoover, AL', 'PUT', 'NextSong', '1.54102E+12', '1076', 'Through The Fire And Flames (Album Version)', '200', '1.54359E+12', '16']\n['Jason Mraz & Colbie Caillat', 'Logged In', 'Chloe', 'F', '40', 'Cuevas', '189.6224', 'paid', 'San Francisco-Oakland-Hayward, CA', 'PUT', 'NextSong', '1.54094E+12', '1096', 'Lucky (Album Version)', '200', '1.54359E+12', '49']\n['Pixies', 'Logged In', 'Chloe', 'F', '41', 'Cuevas', '181.13261', 'paid', 'San Francisco-Oakland-Hayward, CA', 'PUT', 'NextSong', '1.54094E+12', '1096', 'Is She Weird', '200', '1.54359E+12', '49']\n['Eminem', 'Logged In', 'Rylan', 'M', '19', 'George', '251.55873', 'paid', 'Birmingham-Hoover, AL', 'PUT', 'NextSong', '1.54102E+12', '1076', 'Without Me', '200', '1.54359E+12', '16']\n['Buju Banton', 'Logged In', 'Chloe', 'F', '42', 'Cuevas', '232.48934', 'paid', 'San Francisco-Oakland-Hayward, CA', 'PUT', 'NextSong', '1.54094E+12', '1096', 'Cry No More', '200', '1.54359E+12', '49']\n['Cage The Elephant', 'Logged In', 'Rylan', 'M', '20', 'George', '196.38812', 'paid', 'Birmingham-Hoover, AL', 'PUT', 'NextSong', '1.54102E+12', '1076', 'Lotus', '200', '1.54359E+12', '16']\n['Barry Tuckwell/Academy of St Martin-in-the-Fields/Sir Neville Marriner', 'Logged In', 'Chloe', 'F', '43', 'Cuevas', '277.15873', 'paid', 'San Francisco-Oakland-Hayward, CA', 'PUT', 'NextSong', '1.54094E+12', '1096', 'Horn Concerto No. 4 in E flat K495: II. Romance (Andante cantabile)', '200', '1.54359E+12', '49']\n['Ste Strausz', 'Logged In', 'Rylan', 'M', '21', 'George', '285.36118', 'paid', 'Birmingham-Hoover, AL', 'PUT', 'NextSong', '1.54102E+12', '1076', 'Le Million', '200', '1.54359E+12', '16']\n['Coldplay', 'Logged In', 'Chloe', 'F', '44', 'Cuevas', '228.62322', 'paid', 'San Francisco-Oakland-Hayward, CA', 'PUT', 'NextSong', '1.54094E+12', '1096', 'Only Superstition', '200', '1.54359E+12', '49']\n['Joe Christmas', 'Logged In', 'Chloe', 'F', '0', 'Roth', '185.7824', 'free', 'Indianapolis-Carmel-Anderson, IN', 'PUT', 'NextSong', '1.5407E+12', '1059', 'Bedroom Suite', '200', '1.54359E+12', '78']\n['Bright Eyes', 'Logged In', 'Rylan', 'M', '22', 'George', '313.23383', 'paid', 'Birmingham-Hoover, AL', 'PUT', 'NextSong', '1.54102E+12', '1076', 'A New Arrangement', '200', '1.54359E+12', '16']\n['Paramore', 'Logged In', 'Chloe', 'F', '1', 'Roth', '267.65016', 'free', 'Indianapolis-Carmel-Anderson, IN', 'PUT', 'NextSong', '1.5407E+12', '1059', 'The Only Exception (Album Version)', '200', '1.54359E+12', '78']\n['J. Karjalainen & Mustat Lasit', 'Logged In', 'Chloe', 'F', '45', 'Cuevas', '336.74404', 'paid', 'San Francisco-Oakland-Hayward, CA', 'PUT', 'NextSong', '1.54094E+12', '1096', 'Sinisten tÃ\\x83Â¤htien alla', '200', '1.54359E+12', '49']\n['', 'Logged In', 'Jayden', 'M', '0', 'Fox', '', 'free', 'New Orleans-Metairie, LA', 'GET', 'Home', '1.54103E+12', '1108', '', '200', '1.54359E+12', '101']\n['Philip Glass', 'Logged In', 'Rylan', 'M', '23', 'George', '368.40444', 'paid', 'Birmingham-Hoover, AL', 'PUT', 'NextSong', '1.54102E+12', '1076', 'Knee 2', '200', '1.5436E+12', '16']\n['Alliance Ethnik', 'Logged In', 'Chloe', 'F', '46', 'Cuevas', '195.94404', 'paid', 'San Francisco-Oakland-Hayward, CA', 'PUT', 'NextSong', '1.54094E+12', '1096', 'SinceritÃ\\x83Â© Et Jalousie', '200', '1.5436E+12', '49']\n['Mew', 'Logged In', 'Rylan', 'M', '24', 'George', '167.75791', 'paid', 'Birmingham-Hoover, AL', 'PUT', 'NextSong', '1.54102E+12', '1076', 'Her Voice Is Beyond Her Years', '200', '1.5436E+12', '16']\n['', 'Logged In', 'Chloe', 'F', '0', 'Cuevas', '', 'paid', 'San Francisco-Oakland-Hayward, CA', 'GET', 'Home', '1.54094E+12', '1114', '', '200', '1.5436E+12', '49']\n['Ive Mendes', 'Logged In', 'Rylan', 'M', '25', 'George', '238.94159', 'paid', 'Birmingham-Hoover, AL', 'PUT', 'NextSong', '1.54102E+12', '1076', 'If You Leave Me Now', '200', '1.5436E+12', '16']\n['', 'Logged In', 'Bronson', 'M', '0', 'Harris', '', 'free', 'Eugene, OR', 'GET', 'Home', '1.54091E+12', '1026', '', '200', '1.5436E+12', '33']\n['Alliance Ethnik', 'Logged In', 'Bronson', 'M', '1', 'Harris', '195.94404', 'free', 'Eugene, OR', 'PUT', 'NextSong', '1.54091E+12', '1026', 'SinceritÃ\\x83Â© Et Jalousie', '200', '1.5436E+12', '33']\n['the bird and the bee', 'Logged In', 'Rylan', 'M', '26', 'George', '193.802', 'paid', 'Birmingham-Hoover, AL', 'PUT', 'NextSong', '1.54102E+12', '1076', 'Diamond Dave', '200', '1.5436E+12', '16']\n['Common / Sadat X', 'Logged In', 'Bronson', 'M', '2', 'Harris', '256.20853', 'free', 'Eugene, OR', 'PUT', 'NextSong', '1.54091E+12', '1026', '1999', '200', '1.5436E+12', '33']\n['', 'Logged In', 'Bronson', 'M', '3', 'Harris', '', 'free', 'Eugene, OR', 'GET', 'Upgrade', '1.54091E+12', '1026', '', '200', '1.5436E+12', '33']\n['', 'Logged In', 'Bronson', 'M', '4', 'Harris', '', 'free', 'Eugene, OR', 'GET', 'Upgrade', '1.54091E+12', '1026', '', '200', '1.5436E+12', '33']\n['Alanis Morissette', 'Logged In', 'Rylan', 'M', '27', 'George', '245.15873', 'paid', 'Birmingham-Hoover, AL', 'PUT', 'NextSong', '1.54102E+12', '1076', 'King Of Pain (Live/Unplugged Version)', '200', '1.5436E+12', '16']\n['', 'Logged In', 'Bronson', 'M', '5', 'Harris', '', 'free', 'Eugene, OR', 'GET', 'Home', '1.54091E+12', '1026', '', '200', '1.5436E+12', '33']\n['', 'Logged In', 'Bronson', 'M', '6', 'Harris', '', 'free', 'Eugene, OR', 'GET', 'Upgrade', '1.54091E+12', '1026', '', '200', '1.5436E+12', '33']\n['Skillet', 'Logged In', 'Bronson', 'M', '7', 'Harris', '233.32526', 'free', 'Eugene, OR', 'PUT', 'NextSong', '1.54091E+12', '1026', 'Rebirthing (Album Version)', '200', '1.5436E+12', '33']\n['', 'Logged In', 'Bronson', 'M', '8', 'Harris', '', 'free', 'Eugene, OR', 'PUT', 'Logout', '1.54091E+12', '1026', '', '307', '1.5436E+12', '33']\n['James Galway;Julian Lee', 'Logged In', 'Rylan', 'M', '28', 'George', '218.67057', 'paid', 'Birmingham-Hoover, AL', 'PUT', 'NextSong', '1.54102E+12', '1076', 'Beauty and the Beast', '200', '1.5436E+12', '16']\n['', 'Logged Out', '', '', '9', '', '', 'free', '', 'GET', 'Home', '', '1026', '', '200', '1.5436E+12', '']\n['Drop Dead_ Gorgeous', 'Logged In', 'Rylan', 'M', '29', 'George', '156.70812', 'paid', 'Birmingham-Hoover, AL', 'PUT', 'NextSong', '1.54102E+12', '1076', 'Dressed For Friend Requests (Album Version)', '200', '1.5436E+12', '16']\n['Dwight Yoakam', 'Logged In', 'Rylan', 'M', '30', 'George', '239.3073', 'paid', 'Birmingham-Hoover, AL', 'PUT', 'NextSong', '1.54102E+12', '1076', \"You're The One\", '200', '1.5436E+12', '16']\n['Trouble', 'Logged In', 'Rylan', 'M', '31', 'George', '205.11302', 'paid', 'Birmingham-Hoover, AL', 'PUT', 'NextSong', '1.54102E+12', '1076', \"Tuesday's Child\", '200', '1.5436E+12', '16']\n['', 'Logged In', 'Rylan', 'M', '32', 'George', '', 'paid', 'Birmingham-Hoover, AL', 'GET', 'Downgrade', '1.54102E+12', '1076', '', '200', '1.5436E+12', '16']\n['OneRepublic', 'Logged In', 'Rylan', 'M', '33', 'George', '237.97506', 'paid', 'Birmingham-Hoover, AL', 'PUT', 'NextSong', '1.54102E+12', '1076', 'All The Right Moves', '200', '1.5436E+12', '16']\n['Switchblade Symphony', 'Logged In', 'Rylan', 'M', '34', 'George', '259.5522', 'paid', 'Birmingham-Hoover, AL', 'PUT', 'NextSong', '1.54102E+12', '1076', 'Wicked', '200', '1.5436E+12', '16']\n['Sharooz', 'Logged In', 'Rylan', 'M', '35', 'George', '234.05669', 'paid', 'Birmingham-Hoover, AL', 'PUT', 'NextSong', '1.54102E+12', '1076', 'My Distressor 40Khz ReRub Mix', '200', '1.5436E+12', '16']\n['Explosions In The Sky', 'Logged In', 'Rylan', 'M', '36', 'George', '522.9971', 'paid', 'Birmingham-Hoover, AL', 'PUT', 'NextSong', '1.54102E+12', '1076', 'Six Days At The Bottom Of The Ocean', '200', '1.5436E+12', '16']\n['', 'Logged In', 'Austin', 'M', '0', 'Rosales', '', 'free', 'New York-Newark-Jersey City, NY-NJ-PA', 'GET', 'Home', '1.54106E+12', '1101', '', '200', '1.5436E+12', '12']\n['Emmylou Harris', 'Logged In', 'Chloe', 'F', '1', 'Cuevas', '194.63791', 'paid', 'San Francisco-Oakland-Hayward, CA', 'PUT', 'NextSong', '1.54094E+12', '1114', 'Little Bird', '200', '1.5436E+12', '49']\n['Jack Johnson', 'Logged In', 'Chloe', 'F', '2', 'Cuevas', '153.67791', 'paid', 'San Francisco-Oakland-Hayward, CA', 'PUT', 'NextSong', '1.54094E+12', '1114', 'The Horizon Has Been Defeated', '200', '1.5436E+12', '49']\n['Radiohead', 'Logged In', 'Rylan', 'M', '37', 'George', '249.93914', 'paid', 'Birmingham-Hoover, AL', 'PUT', 'NextSong', '1.54102E+12', '1076', 'Everything In Its Right Place', '200', '1.5436E+12', '16']\n['Andrew Bird', 'Logged In', 'Chloe', 'F', '3', 'Cuevas', '215.87546', 'paid', 'San Francisco-Oakland-Hayward, CA', 'PUT', 'NextSong', '1.54094E+12', '1114', 'Heretics', '200', '1.5436E+12', '49']\n['Metallica', 'Logged In', 'Rylan', 'M', '38', 'George', '380.21179', 'paid', 'Birmingham-Hoover, AL', 'PUT', 'NextSong', '1.54102E+12', '1076', 'Sabbra Cadabra', '200', '1.5436E+12', '16']\n['Lonnie Gordon', 'Logged In', 'Chloe', 'F', '4', 'Cuevas', '181.21098', 'paid', 'San Francisco-Oakland-Hayward, CA', 'PUT', 'NextSong', '1.54094E+12', '1114', 'Catch You Baby (Steve Pitron & Max Sanna Radio Edit)', '200', '1.5436E+12', '49']\n['Dropkick Murphys', 'Logged In', 'Chloe', 'F', '5', 'Cuevas', '167.73179', 'paid', 'San Francisco-Oakland-Hayward, CA', 'PUT', 'NextSong', '1.54094E+12', '1114', 'Shattered', '200', '1.5436E+12', '49']\n['Eric B. & Rakim', 'Logged In', 'Rylan', 'M', '39', 'George', '240.32608', 'paid', 'Birmingham-Hoover, AL', 'PUT', 'NextSong', '1.54102E+12', '1076', 'As The Rhyme Goes On', '200', '1.5436E+12', '16']\n['Dierks Bentley', 'Logged In', 'Chloe', 'F', '6', 'Cuevas', '223.242', 'paid', 'San Francisco-Oakland-Hayward, CA', 'PUT', 'NextSong', '1.54094E+12', '1114', 'Settle For A Slowdown', '200', '1.5436E+12', '49']\n['Regina Spektor', 'Logged In', 'Rylan', 'M', '40', 'George', '290.14159', 'paid', 'Birmingham-Hoover, AL', 'PUT', 'NextSong', '1.54102E+12', '1076', 'Daniel Cowman', '200', '1.5436E+12', '16']\n['Angelspit', 'Logged In', 'Chloe', 'F', '7', 'Cuevas', '241.94567', 'paid', 'San Francisco-Oakland-Hayward, CA', 'PUT', 'NextSong', '1.54094E+12', '1114', 'Make You Sin', '200', '1.5436E+12', '49']\n['Young Gunz / Beanie Sigel', 'Logged In', 'Chloe', 'F', '8', 'Cuevas', '292.44036', 'paid', 'San Francisco-Oakland-Hayward, CA', 'PUT', 'NextSong', '1.54094E+12', '1114', 'Roc U', '200', '1.5436E+12', '49']\n['DJ Dizzy', 'Logged In', 'Rylan', 'M', '41', 'George', '221.1522', 'paid', 'Birmingham-Hoover, AL', 'PUT', 'NextSong', '1.54102E+12', '1076', 'Sexy Bitch', '200', '1.5436E+12', '16']\n['Base Ball Bear', 'Logged In', 'Rylan', 'M', '42', 'George', '255.60771', 'paid', 'Birmingham-Hoover, AL', 'PUT', 'NextSong', '1.54102E+12', '1076', 'Sayonara-Nostalgia', '200', '1.5436E+12', '16']\n['Morcheeba', 'Logged In', 'Chloe', 'F', '9', 'Cuevas', '101.95546', 'paid', 'San Francisco-Oakland-Hayward, CA', 'PUT', 'NextSong', '1.54094E+12', '1114', 'In The Hands Of The Gods (Featuring Biz Markie)', '200', '1.5436E+12', '49']\n['Bitter:Sweet', 'Logged In', 'Chloe', 'F', '10', 'Cuevas', '194.16771', 'paid', 'San Francisco-Oakland-Hayward, CA', 'PUT', 'NextSong', '1.54094E+12', '1114', \"Don't Forget To Breathe\", '200', '1.5436E+12', '49']\n['Basshunter Feat. DJ Mental Theo\\x19s Bazzheadz', 'Logged In', 'Rylan', 'M', '43', 'George', '152.65914', 'paid', 'Birmingham-Hoover, AL', 'PUT', 'NextSong', '1.54102E+12', '1076', \"Now You're Gone\", '200', '1.5436E+12', '16']\n['BjÃ\\x83Â¶rk', 'Logged In', 'Chloe', 'F', '11', 'Cuevas', '348.57751', 'paid', 'San Francisco-Oakland-Hayward, CA', 'PUT', 'NextSong', '1.54094E+12', '1114', 'Undo', '200', '1.5436E+12', '49']\n['Rihanna', 'Logged In', 'Rylan', 'M', '44', 'George', '239.75138', 'paid', 'Birmingham-Hoover, AL', 'PUT', 'NextSong', '1.54102E+12', '1076', 'G4L', '200', '1.5436E+12', '16']\n['Evanescence', 'Logged In', 'Rylan', 'M', '45', 'George', '220.3424', 'paid', 'Birmingham-Hoover, AL', 'PUT', 'NextSong', '1.54102E+12', '1076', 'Hello', '200', '1.5436E+12', '16']\n['Mr. Vegas', 'Logged In', 'Chloe', 'F', '12', 'Cuevas', '240.69179', 'paid', 'San Francisco-Oakland-Hayward, CA', 'PUT', 'NextSong', '1.54094E+12', '1114', 'Tamale', '200', '1.5436E+12', '49']\n['Mischa Daniels', 'Logged In', 'Rylan', 'M', '46', 'George', '419.81342', 'paid', 'Birmingham-Hoover, AL', 'PUT', 'NextSong', '1.54102E+12', '1076', 'Another Place', '200', '1.5436E+12', '16']\n['The Menzingers', 'Logged In', 'Chloe', 'F', '13', 'Cuevas', '276.00934', 'paid', 'San Francisco-Oakland-Hayward, CA', 'PUT', 'NextSong', '1.54094E+12', '1114', 'Straight To Hell', '200', '1.5436E+12', '49']\n['Justin Timberlake', 'Logged In', 'Chloe', 'F', '14', 'Cuevas', '288.93995', 'paid', 'San Francisco-Oakland-Hayward, CA', 'PUT', 'NextSong', '1.54094E+12', '1114', 'Cry Me A River', '200', '1.5436E+12', '49']\n['Vilma Palma e Vampiros', 'Logged In', 'Rylan', 'M', '47', 'George', '338.18077', 'paid', 'Birmingham-Hoover, AL', 'PUT', 'NextSong', '1.54102E+12', '1076', 'Un Camino Hasta Vos', '200', '1.5436E+12', '16']\n['CCCP - Fedeli Alla Linea', 'Logged In', 'Chloe', 'F', '15', 'Cuevas', '329.66485', 'paid', 'San Francisco-Oakland-Hayward, CA', 'PUT', 'NextSong', '1.54094E+12', '1114', 'Sura (2008 Digital Remaster)', '200', '1.5436E+12', '49']\n['Kid Cudi / MGMT / Ratatat', 'Logged In', 'Rylan', 'M', '48', 'George', '295.67955', 'paid', 'Birmingham-Hoover, AL', 'PUT', 'NextSong', '1.54102E+12', '1076', 'Pursuit Of Happiness (nightmare)', '200', '1.5436E+12', '16']\n['Drake / Kanye West / Lil Wayne / Eminem', 'Logged In', 'Chloe', 'F', '16', 'Cuevas', '357.66812', 'paid', 'San Francisco-Oakland-Hayward, CA', 'PUT', 'NextSong', '1.54094E+12', '1114', 'Forever', '200', '1.5436E+12', '49']\n['A Day To Remember', 'Logged In', 'Rylan', 'M', '49', 'George', '247.64036', 'paid', 'Birmingham-Hoover, AL', 'PUT', 'NextSong', '1.54102E+12', '1076', 'Homesick [Acoustic]', '200', '1.5436E+12', '16']\n['T.I.', 'Logged In', 'Jayden', 'M', '0', 'Bell', '299.75465', 'free', 'Dallas-Fort Worth-Arlington, TX', 'PUT', 'NextSong', '1.54099E+12', '1085', 'Dead And Gone [feat. Justin Timberlake] (Explicit Album Version)', '200', '1.5436E+12', '91']\n['The Offspring', 'Logged In', 'Rylan', 'M', '50', 'George', '163.3171', 'paid', 'Birmingham-Hoover, AL', 'PUT', 'NextSong', '1.54102E+12', '1076', \"It'll Be a Long Time (Album Version)\", '200', '1.5436E+12', '16']\n['Jorge Gonzalez', 'Logged In', 'Chloe', 'F', '17', 'Cuevas', '272.14322', 'paid', 'San Francisco-Oakland-Hayward, CA', 'PUT', 'NextSong', '1.54094E+12', '1114', 'Esta Es Para Hacerte FÃ\\x83Â©liz', '200', '1.5436E+12', '49']\n['Sneaker Pimps', 'Logged In', 'Jayden', 'M', '1', 'Bell', '260.91057', 'free', 'Dallas-Fort Worth-Arlington, TX', 'PUT', 'NextSong', '1.54099E+12', '1085', 'Spin Spin Sugar', '200', '1.5436E+12', '91']\n['Escape The Fate', 'Logged In', 'Rylan', 'M', '51', 'George', '266.73587', 'paid', 'Birmingham-Hoover, AL', 'PUT', 'NextSong', '1.54102E+12', '1076', 'This War Is Ours (The Guillotine II)', '200', '1.5436E+12', '16']\n['Juanes', 'Logged In', 'Chloe', 'F', '18', 'Cuevas', '243.27791', 'paid', 'San Francisco-Oakland-Hayward, CA', 'PUT', 'NextSong', '1.54094E+12', '1114', 'La Vida Es Un Ratico', '200', '1.5436E+12', '49']\n['The Replacements', 'Logged In', 'Rylan', 'M', '52', 'George', '170.57914', 'paid', 'Birmingham-Hoover, AL', 'PUT', 'NextSong', '1.54102E+12', '1076', 'Never Mind', '200', '1.5436E+12', '16']\n['Sarah McLachlan', 'Logged In', 'Chloe', 'F', '19', 'Cuevas', '278.90893', 'paid', 'San Francisco-Oakland-Hayward, CA', 'PUT', 'NextSong', '1.54094E+12', '1114', 'Possession', '200', '1.5436E+12', '49']\n['Sonny Boy Williamson', 'Logged In', 'Rylan', 'M', '53', 'George', '152.24118', 'paid', 'Birmingham-Hoover, AL', 'PUT', 'NextSong', '1.54102E+12', '1076', \"Don't Start Me Talkin'\", '200', '1.5436E+12', '16']\n['Soul II Soul Featuring Caron Wheeler', 'Logged In', 'Rylan', 'M', '54', 'George', '225.2273', 'paid', 'Birmingham-Hoover, AL', 'PUT', 'NextSong', '1.54102E+12', '1076', 'Back To Life (However Do You Want Me) (2003 Digital Remaster) (Feat. Caron Wheeler)', '200', '1.5436E+12', '16']\n['Florence + The Machine', 'Logged In', 'Chloe', 'F', '20', 'Cuevas', '219.66322', 'paid', 'San Francisco-Oakland-Hayward, CA', 'PUT', 'NextSong', '1.54094E+12', '1114', 'Dog Days Are Over (Radio Edit)', '200', '1.5436E+12', '49']\n['Pantera', 'Logged In', 'Rylan', 'M', '55', 'George', '286.69342', 'paid', 'Birmingham-Hoover, AL', 'PUT', 'NextSong', '1.54102E+12', '1076', 'Heresy  (LP Version)', '200', '1.5436E+12', '16']\n['', 'Logged In', 'Rylan', 'M', '56', 'George', '', 'paid', 'Birmingham-Hoover, AL', 'GET', 'Help', '1.54102E+12', '1076', '', '200', '1.5436E+12', '16']\n['Cold', 'Logged In', 'Chloe', 'F', '21', 'Cuevas', '177.76281', 'paid', 'San Francisco-Oakland-Hayward, CA', 'PUT', 'NextSong', '1.54094E+12', '1114', 'Remedy', '200', '1.5436E+12', '49']\n['Norther', 'Logged In', 'Chloe', 'F', '22', 'Cuevas', '246.54322', 'paid', 'San Francisco-Oakland-Hayward, CA', 'PUT', 'NextSong', '1.54094E+12', '1114', 'Frozen Angel', '200', '1.5436E+12', '49']\n['Foo Fighters', 'Logged In', 'Rylan', 'M', '57', 'George', '271.38567', 'paid', 'Birmingham-Hoover, AL', 'PUT', 'NextSong', '1.54102E+12', '1076', 'The Pretender', '200', '1.5436E+12', '16']\n['Timbiriche', 'Logged In', 'Rylan', 'M', '58', 'George', '202.60526', 'paid', 'Birmingham-Hoover, AL', 'PUT', 'NextSong', '1.54102E+12', '1076', 'Besos De Ceniza', '200', '1.5436E+12', '16']\n['A Perfect Circle', 'Logged In', 'Rylan', 'M', '59', 'George', '206.05342', 'paid', 'Birmingham-Hoover, AL', 'PUT', 'NextSong', '1.54102E+12', '1076', 'Rose', '200', '1.5436E+12', '16']\n['Anberlin', 'Logged In', 'Rylan', 'M', '60', 'George', '348.682', 'paid', 'Birmingham-Hoover, AL', 'PUT', 'NextSong', '1.54102E+12', '1076', 'The Haunting', '200', '1.5436E+12', '16']\n['', 'Logged In', 'Rylan', 'M', '61', 'George', '', 'paid', 'Birmingham-Hoover, AL', 'GET', 'Downgrade', '1.54102E+12', '1076', '', '200', '1.5436E+12', '16']\n['Deas Vail', 'Logged In', 'Elijah', 'M', '0', 'Davis', '237.68771', 'free', 'Detroit-Warren-Dearborn, MI', 'PUT', 'NextSong', '1.54077E+12', '985', 'Anything You Say (Unreleased Version)', '200', '1.54361E+12', '5']\n"
    }
   ],
   "source": [
    "# initiating an empty list of rows that will be generated from each file\n",
    "full_data_rows_list = [] \n",
    "    \n",
    "# for every filepath in the file path list \n",
    "for f in file_path_list:\n",
    "\n",
    "# reading csv file \n",
    "    with open(f, 'r', encoding = 'utf8', newline='') as csvfile: \n",
    "        # creating a csv reader object \n",
    "        csvreader = csv.reader(csvfile) \n",
    "        next(csvreader)\n",
    "        \n",
    " # extracting each data row one by one and append it        \n",
    "        for line in csvreader:\n",
    "            print(line)\n",
    "            full_data_rows_list.append(line) \n",
    "            \n",
    "# uncomment the code below if you would like to get total number of rows \n",
    "# print(len(full_data_rows_list))\n",
    "# uncomment the code below if you would like to check to see what the list of event data rows will look like\n",
    "# print(full_data_rows_list)\n",
    "\n",
    "# creating a smaller event data csv file called event_datafile_full csv that will be used to insert data into the \\\n",
    "# Apache Cassandra tables\n",
    "csv.register_dialect('myDialect', quoting=csv.QUOTE_ALL, skipinitialspace=True)\n",
    "\n",
    "with open('event_datafile_new.csv', 'w', encoding = 'utf8', newline='') as f:\n",
    "    writer = csv.writer(f, dialect='myDialect')\n",
    "    writer.writerow(['artist','firstName','gender','itemInSession','lastName','length',\\\n",
    "                'level','location','sessionId','song','userId'])\n",
    "    for row in full_data_rows_list:\n",
    "        if (row[0] == ''):\n",
    "            continue\n",
    "        writer.writerow((row[0], row[2], row[3], row[4], row[5], row[6], row[7], row[8], row[12], row[13], row[16]))\n"
   ]
  },
  {
   "cell_type": "code",
   "execution_count": 5,
   "metadata": {},
   "outputs": [
    {
     "output_type": "stream",
     "name": "stdout",
     "text": "6821\n"
    }
   ],
   "source": [
    "# check the number of rows in your csv file\n",
    "with open('event_datafile_new.csv', 'r', encoding = 'utf8') as f:\n",
    "    print(sum(1 for line in f))"
   ]
  },
  {
   "cell_type": "markdown",
   "metadata": {},
   "source": [
    "# Part II. Complete the Apache Cassandra coding portion of your project. \n",
    "\n",
    "## Now you are ready to work with the CSV file titled <font color=red>event_datafile_new.csv</font>, located within the Workspace directory.  The event_datafile_new.csv contains the following columns: \n",
    "- artist [0]\n",
    "- firstName of user [1]\n",
    "- gender of user [2]\n",
    "- item number in session [3]\n",
    "- last name of user [4]\n",
    "- length of the song [5]\n",
    "- level (paid or free song) [6]\n",
    "- location of the user [7]\n",
    "- sessionId [8]\n",
    "- song title [9]\n",
    "- userId [10]\n",
    "\n",
    "The image below is a screenshot of what the denormalized data should appear like in the <font color=red>**event_datafile_new.csv**</font> after the code above is run:<br>\n",
    "\n",
    "<img src=\"images/image_event_datafile_new.jpg\">"
   ]
  },
  {
   "cell_type": "code",
   "execution_count": 6,
   "metadata": {},
   "outputs": [],
   "source": [
    "# pandas dataframe will be used offer easier features to process data instead of parsing raw CSV file\n",
    "# load denormalized event files to pandas dataframe df_events\n",
    "# this denormalized pandas dataframe df_events will be use to insert data to Cassandra table\n",
    "\n",
    "df_events = pd.read_csv('event_datafile_new.csv', encoding='utf8')"
   ]
  },
  {
   "cell_type": "code",
   "execution_count": 7,
   "metadata": {},
   "outputs": [
    {
     "output_type": "stream",
     "name": "stdout",
     "text": "<class 'pandas.core.frame.DataFrame'>\nRangeIndex: 6820 entries, 0 to 6819\nData columns (total 11 columns):\n #   Column         Non-Null Count  Dtype  \n---  ------         --------------  -----  \n 0   artist         6820 non-null   object \n 1   firstName      6820 non-null   object \n 2   gender         6820 non-null   object \n 3   itemInSession  6820 non-null   int64  \n 4   lastName       6820 non-null   object \n 5   length         6820 non-null   float64\n 6   level          6820 non-null   object \n 7   location       6820 non-null   object \n 8   sessionId      6820 non-null   int64  \n 9   song           6820 non-null   object \n 10  userId         6820 non-null   int64  \ndtypes: float64(1), int64(3), object(7)\nmemory usage: 586.2+ KB\n"
    }
   ],
   "source": [
    "# view info and columns name of events data dataframe\n",
    "df_events.info()"
   ]
  },
  {
   "cell_type": "code",
   "execution_count": 8,
   "metadata": {},
   "outputs": [
    {
     "output_type": "execute_result",
     "data": {
      "text/plain": "                             artist   firstName gender  itemInSession  \\\n2722  Fedde le Grand Pres. Flamingo       Avery      F             70   \n5213       HervÃÂ© & Kissy Sellout       Chloe      F             23   \n3711                       The Ruts       Layla      F             69   \n3778                      Third Day       Chloe      F             24   \n1392                   Jack Johnson       Tegan      F             33   \n3325                    Carla Bruni       Chloe      F             14   \n1736                 Jorgen Ingmann       Jacob      M              8   \n1275                      Riverside      Harper      M             21   \n6403                     Greg Dulli       Avery      F             39   \n5945                     Ron Carter        Kate      F             23   \n1320                      Nightwish        Lily      F              5   \n4618                   Manolo Otero       Chloe      F             48   \n3293                    Andrew Bird       Layla      F             22   \n4517              A Day To Remember       Chloe      F              1   \n857                    Adelitas Way        Kate      F             29   \n1918               Mario Rosenstock       Chloe      F              5   \n6262                         Common       Rylan      M              8   \n6011                    Talkdemonic    Theodore      M              1   \n325                  Puddle Of Mudd      Aleena      F             20   \n3578                      ExposÃÂ©  Jacqueline      F             83   \n\n      lastName     length level                               location  \\\n2722   Watkins  396.32934  paid     San Jose-Sunnyvale-Santa Clara, CA   \n5213    Cuevas  341.41995  paid      San Francisco-Oakland-Hayward, CA   \n3711   Griffin  338.96444  paid           Lake Havasu City-Kingman, AZ   \n3778    Cuevas  279.17016  paid      San Francisco-Oakland-Hayward, CA   \n1392    Levine  212.68853  paid            Portland-South Portland, ME   \n3325    Cuevas  163.02975  paid      San Francisco-Oakland-Hayward, CA   \n1736     Klein  157.23057  paid    Tampa-St. Petersburg-Clearwater, FL   \n1275   Barrett  236.27710  paid  New York-Newark-Jersey City, NY-NJ-PA   \n6403  Martinez  221.17832  paid      Atlanta-Sandy Springs-Roswell, GA   \n5945   Harrell  497.13587  paid               Lansing-East Lansing, MI   \n1320      Koch  330.97098  paid     Chicago-Naperville-Elgin, IL-IN-WI   \n4618    Cuevas  253.75302  paid      San Francisco-Oakland-Hayward, CA   \n3293   Griffin  305.81506  paid           Lake Havasu City-Kingman, AZ   \n4517    Cuevas  213.81179  paid      San Francisco-Oakland-Hayward, CA   \n857    Harrell  192.26077  paid               Lansing-East Lansing, MI   \n1918    Cuevas  183.14404  free      San Francisco-Oakland-Hayward, CA   \n6262    George  144.16934  paid                  Birmingham-Hoover, AL   \n6011    Harris  129.85424  free                          Red Bluff, CA   \n325      Kirby  210.80771  paid               Waterloo-Cedar Falls, IA   \n3578     Lynch  249.41669  paid      Atlanta-Sandy Springs-Roswell, GA   \n\n      sessionId                                               song  userId  \n2722        324                        Take No Shhh (Original Mix)      30  \n5213        849                                      Rikkalicious       49  \n3711        672                             West One (Shine On Me)      24  \n3778        708                                     God of Wonders      49  \n1392        416                                          Breakdown      80  \n3325        648                  Quelqu'un M'a Dit (Album Version)      49  \n1736        294                                   Oh! (LP Version)      73  \n1275        275                                      Stuck Between      42  \n6403       1017                                        Pussywillow      82  \n5945        944                                I CAN'T GET STARTED      97  \n1320        362                                 Walking In The Air      15  \n4618        816                  QuÃÂ© He De Hacer Para Olvidarte      49  \n3293        407            How You Gonna Keep 'Em Down On The Farm      24  \n4517        816                                   My Life For Hire      49  \n857         293  Invincible (WWE Superstars Theme Song) (Explicit)      97  \n1918        528                                      FAI Piss-Up 1      49  \n6262        983                                         Be (Intro)      16  \n6011        929                              Mountaintops In Caves      14  \n325         196                                             Psycho      44  \n3578        589                                  Let Me Be The One      29  ",
      "text/html": "<div>\n<style scoped>\n    .dataframe tbody tr th:only-of-type {\n        vertical-align: middle;\n    }\n\n    .dataframe tbody tr th {\n        vertical-align: top;\n    }\n\n    .dataframe thead th {\n        text-align: right;\n    }\n</style>\n<table border=\"1\" class=\"dataframe\">\n  <thead>\n    <tr style=\"text-align: right;\">\n      <th></th>\n      <th>artist</th>\n      <th>firstName</th>\n      <th>gender</th>\n      <th>itemInSession</th>\n      <th>lastName</th>\n      <th>length</th>\n      <th>level</th>\n      <th>location</th>\n      <th>sessionId</th>\n      <th>song</th>\n      <th>userId</th>\n    </tr>\n  </thead>\n  <tbody>\n    <tr>\n      <th>2722</th>\n      <td>Fedde le Grand Pres. Flamingo</td>\n      <td>Avery</td>\n      <td>F</td>\n      <td>70</td>\n      <td>Watkins</td>\n      <td>396.32934</td>\n      <td>paid</td>\n      <td>San Jose-Sunnyvale-Santa Clara, CA</td>\n      <td>324</td>\n      <td>Take No Shhh (Original Mix)</td>\n      <td>30</td>\n    </tr>\n    <tr>\n      <th>5213</th>\n      <td>HervÃÂ© &amp; Kissy Sellout</td>\n      <td>Chloe</td>\n      <td>F</td>\n      <td>23</td>\n      <td>Cuevas</td>\n      <td>341.41995</td>\n      <td>paid</td>\n      <td>San Francisco-Oakland-Hayward, CA</td>\n      <td>849</td>\n      <td>Rikkalicious</td>\n      <td>49</td>\n    </tr>\n    <tr>\n      <th>3711</th>\n      <td>The Ruts</td>\n      <td>Layla</td>\n      <td>F</td>\n      <td>69</td>\n      <td>Griffin</td>\n      <td>338.96444</td>\n      <td>paid</td>\n      <td>Lake Havasu City-Kingman, AZ</td>\n      <td>672</td>\n      <td>West One (Shine On Me)</td>\n      <td>24</td>\n    </tr>\n    <tr>\n      <th>3778</th>\n      <td>Third Day</td>\n      <td>Chloe</td>\n      <td>F</td>\n      <td>24</td>\n      <td>Cuevas</td>\n      <td>279.17016</td>\n      <td>paid</td>\n      <td>San Francisco-Oakland-Hayward, CA</td>\n      <td>708</td>\n      <td>God of Wonders</td>\n      <td>49</td>\n    </tr>\n    <tr>\n      <th>1392</th>\n      <td>Jack Johnson</td>\n      <td>Tegan</td>\n      <td>F</td>\n      <td>33</td>\n      <td>Levine</td>\n      <td>212.68853</td>\n      <td>paid</td>\n      <td>Portland-South Portland, ME</td>\n      <td>416</td>\n      <td>Breakdown</td>\n      <td>80</td>\n    </tr>\n    <tr>\n      <th>3325</th>\n      <td>Carla Bruni</td>\n      <td>Chloe</td>\n      <td>F</td>\n      <td>14</td>\n      <td>Cuevas</td>\n      <td>163.02975</td>\n      <td>paid</td>\n      <td>San Francisco-Oakland-Hayward, CA</td>\n      <td>648</td>\n      <td>Quelqu'un M'a Dit (Album Version)</td>\n      <td>49</td>\n    </tr>\n    <tr>\n      <th>1736</th>\n      <td>Jorgen Ingmann</td>\n      <td>Jacob</td>\n      <td>M</td>\n      <td>8</td>\n      <td>Klein</td>\n      <td>157.23057</td>\n      <td>paid</td>\n      <td>Tampa-St. Petersburg-Clearwater, FL</td>\n      <td>294</td>\n      <td>Oh! (LP Version)</td>\n      <td>73</td>\n    </tr>\n    <tr>\n      <th>1275</th>\n      <td>Riverside</td>\n      <td>Harper</td>\n      <td>M</td>\n      <td>21</td>\n      <td>Barrett</td>\n      <td>236.27710</td>\n      <td>paid</td>\n      <td>New York-Newark-Jersey City, NY-NJ-PA</td>\n      <td>275</td>\n      <td>Stuck Between</td>\n      <td>42</td>\n    </tr>\n    <tr>\n      <th>6403</th>\n      <td>Greg Dulli</td>\n      <td>Avery</td>\n      <td>F</td>\n      <td>39</td>\n      <td>Martinez</td>\n      <td>221.17832</td>\n      <td>paid</td>\n      <td>Atlanta-Sandy Springs-Roswell, GA</td>\n      <td>1017</td>\n      <td>Pussywillow</td>\n      <td>82</td>\n    </tr>\n    <tr>\n      <th>5945</th>\n      <td>Ron Carter</td>\n      <td>Kate</td>\n      <td>F</td>\n      <td>23</td>\n      <td>Harrell</td>\n      <td>497.13587</td>\n      <td>paid</td>\n      <td>Lansing-East Lansing, MI</td>\n      <td>944</td>\n      <td>I CAN'T GET STARTED</td>\n      <td>97</td>\n    </tr>\n    <tr>\n      <th>1320</th>\n      <td>Nightwish</td>\n      <td>Lily</td>\n      <td>F</td>\n      <td>5</td>\n      <td>Koch</td>\n      <td>330.97098</td>\n      <td>paid</td>\n      <td>Chicago-Naperville-Elgin, IL-IN-WI</td>\n      <td>362</td>\n      <td>Walking In The Air</td>\n      <td>15</td>\n    </tr>\n    <tr>\n      <th>4618</th>\n      <td>Manolo Otero</td>\n      <td>Chloe</td>\n      <td>F</td>\n      <td>48</td>\n      <td>Cuevas</td>\n      <td>253.75302</td>\n      <td>paid</td>\n      <td>San Francisco-Oakland-Hayward, CA</td>\n      <td>816</td>\n      <td>QuÃÂ© He De Hacer Para Olvidarte</td>\n      <td>49</td>\n    </tr>\n    <tr>\n      <th>3293</th>\n      <td>Andrew Bird</td>\n      <td>Layla</td>\n      <td>F</td>\n      <td>22</td>\n      <td>Griffin</td>\n      <td>305.81506</td>\n      <td>paid</td>\n      <td>Lake Havasu City-Kingman, AZ</td>\n      <td>407</td>\n      <td>How You Gonna Keep 'Em Down On The Farm</td>\n      <td>24</td>\n    </tr>\n    <tr>\n      <th>4517</th>\n      <td>A Day To Remember</td>\n      <td>Chloe</td>\n      <td>F</td>\n      <td>1</td>\n      <td>Cuevas</td>\n      <td>213.81179</td>\n      <td>paid</td>\n      <td>San Francisco-Oakland-Hayward, CA</td>\n      <td>816</td>\n      <td>My Life For Hire</td>\n      <td>49</td>\n    </tr>\n    <tr>\n      <th>857</th>\n      <td>Adelitas Way</td>\n      <td>Kate</td>\n      <td>F</td>\n      <td>29</td>\n      <td>Harrell</td>\n      <td>192.26077</td>\n      <td>paid</td>\n      <td>Lansing-East Lansing, MI</td>\n      <td>293</td>\n      <td>Invincible (WWE Superstars Theme Song) (Explicit)</td>\n      <td>97</td>\n    </tr>\n    <tr>\n      <th>1918</th>\n      <td>Mario Rosenstock</td>\n      <td>Chloe</td>\n      <td>F</td>\n      <td>5</td>\n      <td>Cuevas</td>\n      <td>183.14404</td>\n      <td>free</td>\n      <td>San Francisco-Oakland-Hayward, CA</td>\n      <td>528</td>\n      <td>FAI Piss-Up 1</td>\n      <td>49</td>\n    </tr>\n    <tr>\n      <th>6262</th>\n      <td>Common</td>\n      <td>Rylan</td>\n      <td>M</td>\n      <td>8</td>\n      <td>George</td>\n      <td>144.16934</td>\n      <td>paid</td>\n      <td>Birmingham-Hoover, AL</td>\n      <td>983</td>\n      <td>Be (Intro)</td>\n      <td>16</td>\n    </tr>\n    <tr>\n      <th>6011</th>\n      <td>Talkdemonic</td>\n      <td>Theodore</td>\n      <td>M</td>\n      <td>1</td>\n      <td>Harris</td>\n      <td>129.85424</td>\n      <td>free</td>\n      <td>Red Bluff, CA</td>\n      <td>929</td>\n      <td>Mountaintops In Caves</td>\n      <td>14</td>\n    </tr>\n    <tr>\n      <th>325</th>\n      <td>Puddle Of Mudd</td>\n      <td>Aleena</td>\n      <td>F</td>\n      <td>20</td>\n      <td>Kirby</td>\n      <td>210.80771</td>\n      <td>paid</td>\n      <td>Waterloo-Cedar Falls, IA</td>\n      <td>196</td>\n      <td>Psycho</td>\n      <td>44</td>\n    </tr>\n    <tr>\n      <th>3578</th>\n      <td>ExposÃÂ©</td>\n      <td>Jacqueline</td>\n      <td>F</td>\n      <td>83</td>\n      <td>Lynch</td>\n      <td>249.41669</td>\n      <td>paid</td>\n      <td>Atlanta-Sandy Springs-Roswell, GA</td>\n      <td>589</td>\n      <td>Let Me Be The One</td>\n      <td>29</td>\n    </tr>\n  </tbody>\n</table>\n</div>"
     },
     "metadata": {},
     "execution_count": 8
    }
   ],
   "source": [
    "# view random sampling of events data to understand better the denormalized event dataset\n",
    "df_events.sample(20)"
   ]
  },
  {
   "cell_type": "markdown",
   "metadata": {},
   "source": [
    "## ETL pipeline to create Cassandra Cluster, Keyspace, tables, queries"
   ]
  },
  {
   "cell_type": "markdown",
   "metadata": {},
   "source": [
    "Ypu must run a local Cassandra cluster with Docker before running the cells below on a local computer :\n",
    "``` Docker\n",
    "docker-compose up -d\n",
    "```"
   ]
  },
  {
   "cell_type": "markdown",
   "metadata": {},
   "source": [
    "#### Creating a Cluster"
   ]
  },
  {
   "cell_type": "code",
   "execution_count": 9,
   "metadata": {},
   "outputs": [],
   "source": [
    "# This will make a connection to a Cassandra instance your local machine \n",
    "# (127.0.0.1)\n",
    "\n",
    "from cassandra.cluster import Cluster\n",
    "\n",
    "\n",
    "# To establish connection and begin executing queries, connect session to Cassandra local cluster (Docker)\n",
    "try:\n",
    "    cluster = Cluster(['127.0.0.1'])\n",
    "    session = cluster.connect()\n",
    "except Exception as e:\n",
    "    print(e)"
   ]
  },
  {
   "cell_type": "markdown",
   "metadata": {},
   "source": [
    "#### Create Keyspace"
   ]
  },
  {
   "cell_type": "code",
   "execution_count": 10,
   "metadata": {},
   "outputs": [],
   "source": [
    "# Create a Keyspace called sparkify\n",
    "try:\n",
    "    session.execute(\"\"\"\n",
    "    CREATE KEYSPACE IF NOT EXISTS sparkify \n",
    "    WITH REPLICATION = \n",
    "    { 'class' : 'SimpleStrategy', 'replication_factor' : 1 }\"\"\"\n",
    ")\n",
    "\n",
    "except Exception as e:\n",
    "    print(e)\n"
   ]
  },
  {
   "cell_type": "code",
   "execution_count": 11,
   "metadata": {},
   "outputs": [],
   "source": [
    "# Set KEYSPACE to the keyspace sparkify above\n",
    "try:\n",
    "    session.set_keyspace('sparkify')\n",
    "except Exception as e:\n",
    "    print(e)\n"
   ]
  },
  {
   "cell_type": "markdown",
   "metadata": {},
   "source": [
    "### Drop any existing tables before creating them\n",
    "\n",
    "We need to answer 3 queries so there will be 3 data models. 3 tables will be created "
   ]
  },
  {
   "cell_type": "code",
   "execution_count": 12,
   "metadata": {},
   "outputs": [
    {
     "output_type": "execute_result",
     "data": {
      "text/plain": "<cassandra.cluster.ResultSet at 0x7f01850554d0>"
     },
     "metadata": {},
     "execution_count": 12
    }
   ],
   "source": [
    "# use if necessary the following DROP TABLE queries to delete and reset existing tables before testing the ETL pipeline\n",
    "\n",
    "drop_table_query_1 = \"DROP TABLE IF EXISTS session_details;\"\n",
    "session.execute(drop_table_query_1)\n",
    "\n",
    "drop_table_query_2 = \"DROP TABLE IF EXISTS user_activity_in_session;\"\n",
    "session.execute(drop_table_query_2)\n",
    "\n",
    "drop_table_query_3 = \"DROP TABLE IF EXISTS songs_listeners;\"\n",
    "session.execute(drop_table_query_3)"
   ]
  },
  {
   "cell_type": "markdown",
   "metadata": {},
   "source": [
    "### Now we need to create tables to run the following queries. Remember, with Apache Cassandra you model the database tables on the queries you want to run."
   ]
  },
  {
   "cell_type": "markdown",
   "metadata": {},
   "source": [
    "\n",
    "## Creating queries to ask the following three questions from the event data\n",
    "\n",
    "### 1. Give me the artist, song title and song's length in the music app history that was heard during  sessionId = 338, and itemInSession  = 4\n",
    "\n",
    "\n",
    "### 2. Give me only the following: name of artist, song (sorted by itemInSession) and user (first and last name) for userid = 10, sessionid = 182\n",
    "    \n",
    "\n",
    "### 3. Give me every user name (first and last) in my music app history who listened to the song 'All Hands Against His Own'\n",
    "\n",
    "\n"
   ]
  },
  {
   "cell_type": "markdown",
   "metadata": {},
   "source": [
    "### Creating and testing Data Model for the following query\n",
    "### 1. Give me the artist, song title and song's length in the music app history that was heard during sessionId = 338, and itemInSession = 4"
   ]
  },
  {
   "cell_type": "code",
   "execution_count": 13,
   "metadata": {},
   "outputs": [],
   "source": [
    "## Data Model for Cassandra Database to ansnwer the query\n",
    "#\n",
    "# the query is looking for artist and song information for specific sessionId and itemInSession\n",
    "# sessionId and itemInSession can be used as primary key\n",
    "# here is the corresponding CREATE TABLE query -> create session_details table\n",
    "\n",
    "create_table_query_1 = \"CREATE TABLE IF NOT EXISTS session_details \"\n",
    "create_table_query_1 = create_table_query_1 + \"(session_id int, item_in_session int, artist_name text, song_title text, song_length float, PRIMARY KEY (session_id, item_in_session))\"\n",
    "try:\n",
    "    session.execute(create_table_query_1)\n",
    "except Exception as e:\n",
    "    print(e)\n",
    "                    "
   ]
  },
  {
   "cell_type": "code",
   "execution_count": 14,
   "metadata": {},
   "outputs": [],
   "source": [
    "# load event data pandas dataframe to cassandra table using PreparedStatements \n",
    "# here is the INSERT INTO query to load the data to Cassandra database to session_details table\n",
    "\n",
    "insert_query_1 = \"INSERT INTO session_details (session_id, item_in_session, artist_name, song_title, song_length)\"\n",
    "insert_query_1 = insert_query_1 + \" VALUES (?, ?, ?, ?, ?)\"\n",
    "\n",
    "prepared_query_1 = session.prepare(insert_query_1)\n",
    "\n",
    "for index, row in df_events.iterrows():\n",
    "    session.execute(prepared_query_1, (row['sessionId'], row['itemInSession'], row['artist'],\n",
    "                                        row['song'], row['length']))\n"
   ]
  },
  {
   "cell_type": "code",
   "execution_count": 16,
   "metadata": {
    "scrolled": true
   },
   "outputs": [
    {
     "output_type": "execute_result",
     "data": {
      "text/plain": "  artist_name                       song_title  song_length\n0   Faithless  Music Matters (Mark Knight Dub)   495.307312",
      "text/html": "<div>\n<style scoped>\n    .dataframe tbody tr th:only-of-type {\n        vertical-align: middle;\n    }\n\n    .dataframe tbody tr th {\n        vertical-align: top;\n    }\n\n    .dataframe thead th {\n        text-align: right;\n    }\n</style>\n<table border=\"1\" class=\"dataframe\">\n  <thead>\n    <tr style=\"text-align: right;\">\n      <th></th>\n      <th>artist_name</th>\n      <th>song_title</th>\n      <th>song_length</th>\n    </tr>\n  </thead>\n  <tbody>\n    <tr>\n      <th>0</th>\n      <td>Faithless</td>\n      <td>Music Matters (Mark Knight Dub)</td>\n      <td>495.307312</td>\n    </tr>\n  </tbody>\n</table>\n</div>"
     },
     "metadata": {},
     "execution_count": 16
    }
   ],
   "source": [
    "## Here is the SELECT statement to verify the data was entered into the table\n",
    "## Query 1:  Give me the artist, song title and song's length in the music app history that was heard during \\\n",
    "## sessionId = 338, and itemInSession = 4\n",
    "\n",
    "sessionId = 338\n",
    "itemInSession = 4\n",
    "\n",
    "select_query_1 = \"SELECT artist_name, song_title, song_length \\\n",
    "                    FROM session_details \\\n",
    "                    WHERE session_id = %s \\\n",
    "                    AND item_in_session = %s\"\n",
    "\n",
    "# the select query is executed and results are returned to a pandas dataframe\n",
    "\n",
    "rows = session.execute(select_query_1, (sessionId, itemInSession))\n",
    "\n",
    "# define a results dictionnary\n",
    "query_results_1 = {'artist_name':[],\n",
    "                    'song_title':[],\n",
    "                    'song_length' :[]\n",
    "                    }\n",
    "\n",
    "# append the results row by row to the dictionnary\n",
    "for row in rows:\n",
    "    query_results_1['artist_name'].append(row.artist_name)     \n",
    "    query_results_1['song_title'].append(row.song_title)\n",
    "    query_results_1['song_length'].append(row.song_length)\n",
    "\n",
    "# create a pandas dataframe from the query results\n",
    "df_query_1 = pd.DataFrame(query_results_1)\n",
    "\n",
    "# view query results dataframe\n",
    "df_query_1"
   ]
  },
  {
   "cell_type": "markdown",
   "metadata": {},
   "source": [
    "### Creating and testing Data Model for the following query\n",
    "### 2. Give me only the following: name of artist, song (sorted by itemInSession) and user (first and last name) for userid = 10, sessionid = 182"
   ]
  },
  {
   "cell_type": "code",
   "execution_count": 17,
   "metadata": {},
   "outputs": [],
   "source": [
    "## Data Model for Cassandra Database to ansnwer the query\n",
    "#\n",
    "# the query is looking for specific userid and sessionid\n",
    "# userid and sessionid can be used as primary key\n",
    "# we will add itemInSession  as clustering Columns to sort the data \n",
    "# here is the corresponding CREATE TABLE query -> create user_activity_in_session table\n",
    "\n",
    "create_table_query_2 = \"CREATE TABLE IF NOT EXISTS user_activity_in_session \"\n",
    "create_table_query_2 = create_table_query_2 + \"(user_id int, session_id int, item_in_session int, artist_name text, song_title text, user_firstname text, user_lastname text, PRIMARY KEY (user_id, session_id, item_in_session))\"\n",
    "try:\n",
    "    session.execute(create_table_query_2)\n",
    "except Exception as e:\n",
    "    print(e)"
   ]
  },
  {
   "cell_type": "code",
   "execution_count": 18,
   "metadata": {},
   "outputs": [],
   "source": [
    "# load event data pandas dataframe to cassandra table using PreparedStatements \n",
    "# here is the INSERT INTO query to load the data to Cassandra database to user_activity_in_session table\n",
    "\n",
    "\n",
    "insert_query_2 = \"INSERT INTO user_activity_in_session (user_id, session_id, item_in_session, artist_name, song_title, user_firstname, user_lastname)\"\n",
    "insert_query_2 = insert_query_2 + \" VALUES (?, ?, ?, ?, ?, ?, ?)\"\n",
    "\n",
    "prepared_query_2 = session.prepare(insert_query_2)\n",
    "\n",
    "for index, row in df_events.iterrows():\n",
    "    session.execute(prepared_query_2, (row['userId'], row['sessionId'], row['itemInSession'],\n",
    "                                        row['artist'], row['song'], row['firstName'], row['lastName']))"
   ]
  },
  {
   "cell_type": "code",
   "execution_count": 20,
   "metadata": {},
   "outputs": [
    {
     "output_type": "execute_result",
     "data": {
      "text/plain": "         artist_name                                         song_title  \\\n0   Down To The Bone                                 Keep On Keepin' On   \n1       Three Drives                                        Greece 2000   \n2  Sebastien Tellier                                          Kilometer   \n3      Lonnie Gordon  Catch You Baby (Steve Pitron & Max Sanna Radio...   \n\n  user_firstname user_lastname  \n0         Sylvie          Cruz  \n1         Sylvie          Cruz  \n2         Sylvie          Cruz  \n3         Sylvie          Cruz  ",
      "text/html": "<div>\n<style scoped>\n    .dataframe tbody tr th:only-of-type {\n        vertical-align: middle;\n    }\n\n    .dataframe tbody tr th {\n        vertical-align: top;\n    }\n\n    .dataframe thead th {\n        text-align: right;\n    }\n</style>\n<table border=\"1\" class=\"dataframe\">\n  <thead>\n    <tr style=\"text-align: right;\">\n      <th></th>\n      <th>artist_name</th>\n      <th>song_title</th>\n      <th>user_firstname</th>\n      <th>user_lastname</th>\n    </tr>\n  </thead>\n  <tbody>\n    <tr>\n      <th>0</th>\n      <td>Down To The Bone</td>\n      <td>Keep On Keepin' On</td>\n      <td>Sylvie</td>\n      <td>Cruz</td>\n    </tr>\n    <tr>\n      <th>1</th>\n      <td>Three Drives</td>\n      <td>Greece 2000</td>\n      <td>Sylvie</td>\n      <td>Cruz</td>\n    </tr>\n    <tr>\n      <th>2</th>\n      <td>Sebastien Tellier</td>\n      <td>Kilometer</td>\n      <td>Sylvie</td>\n      <td>Cruz</td>\n    </tr>\n    <tr>\n      <th>3</th>\n      <td>Lonnie Gordon</td>\n      <td>Catch You Baby (Steve Pitron &amp; Max Sanna Radio...</td>\n      <td>Sylvie</td>\n      <td>Cruz</td>\n    </tr>\n  </tbody>\n</table>\n</div>"
     },
     "metadata": {},
     "execution_count": 20
    }
   ],
   "source": [
    "## Here is the SELECT statement to verify the data was entered into the table\n",
    "## Query 2:  Give me only the following: name of artist, song (sorted by itemInSession) and user (first and last name) \\\n",
    "## for userid = 10, sessionid = 182\n",
    "userId = 10\n",
    "sessionId = 182\n",
    "\n",
    "select_query_2 = \"SELECT item_in_session, artist_name, song_title, user_firstname, user_lastname \\\n",
    "                    FROM user_activity_in_session \\\n",
    "                    WHERE user_id = %s \\\n",
    "                    AND session_id = %s\"\n",
    "\n",
    "# the select query is executed and results are returned to a pandas dataframe\n",
    "rows = session.execute(select_query_2, (userId, sessionId))\n",
    "\n",
    "# define a results dictionnary\n",
    "query_results_2 = {'artist_name':[],\n",
    "                'song_title' :[],\n",
    "                'user_firstname' :[],\n",
    "                'user_lastname' : []\n",
    "                }\n",
    "\n",
    "# append the results row by row to the dictionnary\n",
    "for row in rows:   \n",
    "    query_results_2['artist_name'].append(row.artist_name)\n",
    "    query_results_2['song_title'].append(row.song_title)\n",
    "    query_results_2['user_firstname'].append(row.user_firstname)\n",
    "    query_results_2['user_lastname'].append(row.user_lastname)\n",
    "\n",
    "# create a pandas dataframe from the query results\n",
    "df_query_2 = pd.DataFrame(query_results_2)\n",
    "\n",
    "# view query results dataframe and check that songs are sorted by item_in_session\n",
    "df_query_2\n"
   ]
  },
  {
   "cell_type": "markdown",
   "metadata": {},
   "source": [
    "### Creating and testing Data Model for the following query\n",
    "### 3. Give me every user name (first and last) in my music app history who listened to the song 'All Hands Against His Own'"
   ]
  },
  {
   "cell_type": "code",
   "execution_count": 21,
   "metadata": {},
   "outputs": [],
   "source": [
    "## Data Model for Cassandra Database to ansnwer the query\n",
    "#\n",
    "# the query is looking for specific song and users listener\n",
    "# song and userid can be used as primary key\n",
    "# here is the corresponding CREATE TABLE query -> create songs_listeners table\n",
    "\n",
    "create_table_query_3 = \"CREATE TABLE IF NOT EXISTS songs_listeners \"\n",
    "create_table_query_3 = create_table_query_3 + \"(user_id int, song_title text, user_firstname text, user_lastname text, PRIMARY KEY (song_title, user_id))\"\n",
    "try:\n",
    "    session.execute(create_table_query_3)\n",
    "except Exception as e:\n",
    "    print(e)\n",
    "                    "
   ]
  },
  {
   "cell_type": "code",
   "execution_count": 22,
   "metadata": {},
   "outputs": [],
   "source": [
    "# load event data pandas dataframe to cassandra table using PreparedStatements \n",
    "# here is the INSERT INTO query to load the data to Cassandra database to songs_listeners table\n",
    "\n",
    "insert_query_3 = \"INSERT INTO songs_listeners (user_id, song_title, user_firstname, user_lastname)\"\n",
    "insert_query_3 = insert_query_3 + \" VALUES ( ?, ?, ?, ?)\"\n",
    "\n",
    "prepared = session.prepare(insert_query_3)\n",
    "\n",
    "for index, row in df_events.iterrows():\n",
    "    session.execute(prepared, (row['userId'], row['song'], row['firstName'], row['lastName']))"
   ]
  },
  {
   "cell_type": "code",
   "execution_count": 25,
   "metadata": {},
   "outputs": [
    {
     "output_type": "execute_result",
     "data": {
      "text/plain": "  user_firstname user_lastname\n0     Jacqueline         Lynch\n1          Tegan        Levine\n2           Sara       Johnson",
      "text/html": "<div>\n<style scoped>\n    .dataframe tbody tr th:only-of-type {\n        vertical-align: middle;\n    }\n\n    .dataframe tbody tr th {\n        vertical-align: top;\n    }\n\n    .dataframe thead th {\n        text-align: right;\n    }\n</style>\n<table border=\"1\" class=\"dataframe\">\n  <thead>\n    <tr style=\"text-align: right;\">\n      <th></th>\n      <th>user_firstname</th>\n      <th>user_lastname</th>\n    </tr>\n  </thead>\n  <tbody>\n    <tr>\n      <th>0</th>\n      <td>Jacqueline</td>\n      <td>Lynch</td>\n    </tr>\n    <tr>\n      <th>1</th>\n      <td>Tegan</td>\n      <td>Levine</td>\n    </tr>\n    <tr>\n      <th>2</th>\n      <td>Sara</td>\n      <td>Johnson</td>\n    </tr>\n  </tbody>\n</table>\n</div>"
     },
     "metadata": {},
     "execution_count": 25
    }
   ],
   "source": [
    "## Here is the SELECT statement to verify the data was entered into the table\n",
    "# Query 3: Give me every user name (first and last) in my music app history who listened to the song 'All Hands Against His Own'\n",
    "\n",
    "song = 'All Hands Against His Own'\n",
    "\n",
    "select_query_3 = \"SELECT user_id, user_firstname, user_lastname \\\n",
    "                    FROM songs_listeners \\\n",
    "                    WHERE song_title = %s\"\n",
    "\n",
    "# the select query is executed and results are returned to a pandas dataframe\n",
    "rows = session.execute(select_query_3, (song,))\n",
    "\n",
    "# define a results dictionnary\n",
    "query_results_3 = {\"user_firstname\":[],\n",
    "                \"user_lastname\" : []\n",
    "            }\n",
    "\n",
    "# append the results row by row to the dictionnary\n",
    "for row in rows:  \n",
    "    query_results_3['user_firstname'].append(row.user_firstname)\n",
    "    query_results_3['user_lastname'].append(row.user_lastname)\n",
    "\n",
    "# create a pandas dataframe from the query results\n",
    "df_query_3 = pd.DataFrame(query_results_3)\n",
    "\n",
    "\n",
    "# view query results dataframe and check that user_id is correct fot the users\n",
    "df_query_3"
   ]
  },
  {
   "cell_type": "markdown",
   "metadata": {},
   "source": [
    "### Drop the tables before closing out the sessions"
   ]
  },
  {
   "cell_type": "code",
   "execution_count": 26,
   "metadata": {},
   "outputs": [
    {
     "output_type": "execute_result",
     "data": {
      "text/plain": "<cassandra.cluster.ResultSet at 0x7f0185035fd0>"
     },
     "metadata": {},
     "execution_count": 26
    }
   ],
   "source": [
    "drop_table_query_1 = \"DROP TABLE IF EXISTS session_details;\"\n",
    "session.execute(drop_table_query_1)\n",
    "\n",
    "drop_table_query_2 = \"DROP TABLE IF EXISTS user_activity_in_session;\"\n",
    "session.execute(drop_table_query_2)\n",
    "\n",
    "drop_table_query_3 = \"DROP TABLE IF EXISTS songs_listeners;\"\n",
    "session.execute(drop_table_query_3)"
   ]
  },
  {
   "cell_type": "markdown",
   "metadata": {},
   "source": [
    "### Close the session and cluster connection¶"
   ]
  },
  {
   "cell_type": "code",
   "execution_count": 27,
   "metadata": {},
   "outputs": [],
   "source": [
    "session.shutdown()\n",
    "cluster.shutdown()"
   ]
  },
  {
   "cell_type": "code",
   "execution_count": null,
   "metadata": {},
   "outputs": [],
   "source": []
  }
 ],
 "metadata": {
  "kernelspec": {
   "display_name": "Python 3.7.7 64-bit ('udacity2': conda)",
   "language": "python",
   "name": "python37764bitudacity2conda37dcb3d9d79a4aebb4d3a98a5ea1998d"
  },
  "language_info": {
   "codemirror_mode": {
    "name": "ipython",
    "version": 3
   },
   "file_extension": ".py",
   "mimetype": "text/x-python",
   "name": "python",
   "nbconvert_exporter": "python",
   "pygments_lexer": "ipython3",
   "version": "3.7.7-final"
  }
 },
 "nbformat": 4,
 "nbformat_minor": 2
}